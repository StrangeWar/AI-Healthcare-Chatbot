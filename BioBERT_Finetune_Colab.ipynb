{
 "cells": [
  {
   "cell_type": "markdown",
   "id": "b8efef70",
   "metadata": {},
   "source": [
    "# BioBERT Fine-tuning in Google Colab\n",
    "This notebook will help you fine-tune your BioBERT model using your own dataset."
   ]
  },
  {
   "cell_type": "code",
   "execution_count": null,
   "id": "6036274a",
   "metadata": {},
   "outputs": [],
   "source": [
    "!pip install transformers torch scikit-learn pandas matplotlib seaborn"
   ]
  },
  {
   "cell_type": "markdown",
   "id": "15740b21",
   "metadata": {},
   "source": [
    "## Upload your zipped workspace (containing your scripts and data)"
   ]
  },
  {
   "cell_type": "code",
   "execution_count": null,
   "id": "219e593f",
   "metadata": {},
   "outputs": [],
   "source": [
    "from google.colab import files\n",
    "uploaded = files.upload()  # Upload your zip file (e.g., ai_chatbot.zip)"
   ]
  },
  {
   "cell_type": "code",
   "execution_count": null,
   "id": "5b214e00",
   "metadata": {},
   "outputs": [],
   "source": [
    "import zipfile\n",
    "import os\n",
    "zip_filename = next(f for f in os.listdir() if f.endswith('.zip'))\n",
    "with zipfile.ZipFile(zip_filename, 'r') as zip_ref:\n",
    "    zip_ref.extractall('.')"
   ]
  },
  {
   "cell_type": "markdown",
   "id": "0ccf58cc",
   "metadata": {},
   "source": [
    "## Generate label order for correct mapping"
   ]
  },
  {
   "cell_type": "code",
   "execution_count": null,
   "id": "c99e4df3",
   "metadata": {},
   "outputs": [],
   "source": [
    "!python generate_label_order.py"
   ]
  },
  {
   "cell_type": "markdown",
   "id": "6fb4e8e6",
   "metadata": {},
   "source": [
    "## Train the model"
   ]
  },
  {
   "cell_type": "code",
   "execution_count": null,
   "id": "a8759395",
   "metadata": {},
   "outputs": [],
   "source": [
    "!python finetune_biobert.py"
   ]
  },
  {
   "cell_type": "markdown",
   "id": "ad8a19ec",
   "metadata": {},
   "source": [
    "## Download the fine-tuned model and label order file"
   ]
  },
  {
   "cell_type": "code",
   "execution_count": null,
   "id": "11434508",
   "metadata": {},
   "outputs": [],
   "source": [
    "import shutil\n",
    "shutil.make_archive('pubmedbert-finetuned', 'zip', 'pubmedbert-finetuned')\n",
    "from google.colab import files\n",
    "files.download('pubmedbert-finetuned.zip')\n",
    "files.download('label_order.json')"
   ]
  }
 ],
 "metadata": {
  "language_info": {
   "name": "python"
  }
 },
 "nbformat": 4,
 "nbformat_minor": 5
}
